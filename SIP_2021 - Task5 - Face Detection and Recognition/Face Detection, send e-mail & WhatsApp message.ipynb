{
 "cells": [
  {
   "cell_type": "code",
   "execution_count": 1,
   "metadata": {},
   "outputs": [
    {
     "name": "stdout",
     "output_type": "stream",
     "text": [
      "Email sent successfully\n"
     ]
    }
   ],
   "source": [
    "import smtplib \n",
    "from email.message import EmailMessage \n",
    "import datetime\n",
    "import cv2\n",
    "\n",
    "import os \n",
    "\n",
    "def whatsapp_msg_sent():\n",
    "    import pywhatkit\n",
    "    pywhatkit.sendwhatmsg_instantly(\n",
    "        phone_no=\"+918329447581\", \n",
    "        message=\"Hello Harshal, A human face has been detected! Was it you?\"\n",
    ")\n",
    "    \n",
    "    \n",
    "def email_alert(subject, body, to):\n",
    "    msg=EmailMessage()\n",
    "    msg.set_content(body)\n",
    "    msg[\"subject\"] = subject \n",
    "    msg[\"to\"] = to\n",
    "    user=\"harshalatmaramani@gmail.com\"\n",
    "    msg[\"from\"]=user\n",
    "    password=\"Harsh@l123\"\n",
    "    server=smtplib.SMTP(\"smtp.gmail.com\",587)\n",
    "    server.starttls()\n",
    "    server.login(user,password)\n",
    "    server.send_message(msg)\n",
    "    print(\"Email sent successfully\")\n",
    "    server.quit()\n",
    "\n",
    "    \n",
    "# For live face detection \n",
    "detect=False\n",
    "now=\"\"\n",
    "\n",
    "model = cv2.CascadeClassifier(\"haarcascade_frontalface_default.xml\")\n",
    "cap = cv2.VideoCapture(0)\n",
    "while True:\n",
    "    ret,photo=cap.read()\n",
    "    faces=model.detectMultiScale(photo)\n",
    "    if len(faces) == 0:\n",
    "        pass\n",
    "    else:\n",
    "        x1=faces[0][0]\n",
    "        y1=faces[0][1]\n",
    "        x2=x1+faces[0][2]\n",
    "        y2=y1+faces[0][3]\n",
    "        model_pic = cv2.rectangle(photo, (x1,y1),(x2,y2),[0,255,0],3)\n",
    "        cv2.imshow(\"Face Detection Screen\", model_pic)\n",
    "        if cv2.waitKey(10) == 13:\n",
    "            cap.release()\n",
    "            break\n",
    "        detect=True\n",
    "        now = datetime.datetime.now()\n",
    "        now=str(now)\n",
    "cv2.destroyAllWindows()\n",
    "\n",
    "# SENDS EMAIL & WHATSAPP MESSAGE\n",
    "if detect==True:\n",
    "    msg=\"❗ *CAUTION* ❗ \\n*A human face has been detected! \\nWas it you?* 🚫\\n\\nTimestamp: {}\".format(now)\n",
    "    email_alert(\"Alert\",msg,\"teamoptimizers2020@gmail.com\")\n",
    "    whatsapp_msg_sent()"
   ]
  },
  {
   "cell_type": "code",
   "execution_count": null,
   "metadata": {},
   "outputs": [],
   "source": []
  }
 ],
 "metadata": {
  "interpreter": {
   "hash": "5791a75df3eced459d46412bb3b81bf5febbc67e74e51b553546e66ad332003a"
  },
  "kernelspec": {
   "display_name": "Python 3",
   "language": "python",
   "name": "python3"
  },
  "language_info": {
   "codemirror_mode": {
    "name": "ipython",
    "version": 3
   },
   "file_extension": ".py",
   "mimetype": "text/x-python",
   "name": "python",
   "nbconvert_exporter": "python",
   "pygments_lexer": "ipython3",
   "version": "3.8.5"
  }
 },
 "nbformat": 4,
 "nbformat_minor": 2
}
