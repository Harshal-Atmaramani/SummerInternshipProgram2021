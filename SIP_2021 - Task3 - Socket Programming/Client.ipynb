{
 "metadata": {
  "language_info": {
   "codemirror_mode": {
    "name": "ipython",
    "version": 3
   },
   "file_extension": ".py",
   "mimetype": "text/x-python",
   "name": "python",
   "nbconvert_exporter": "python",
   "pygments_lexer": "ipython3",
   "version": 3
  },
  "orig_nbformat": 2
 },
 "nbformat": 4,
 "nbformat_minor": 2,
 "cells": [
  {
   "cell_type": "code",
   "execution_count": null,
   "metadata": {},
   "outputs": [],
   "source": [
    "import socket as s\n",
    "import cv2\n",
    "import pickle\n",
    "import struct\n",
    "\n",
    "client_s = s.socket(s.AF_INET,s.SOCK_STREAM)\n",
    "host_ip = '192.168.128.1'\n",
    "port = 1234\n",
    "print(\"Socket Created Successfully\")\n",
    "\n",
    "# Connecting to the server\n",
    "# The client socket can use the connect() method, after the socket creation is complete to contact the server socket.\n",
    "client_s.connect((host_ip,port))\n",
    "data = b\"\" # Empty string of defined 1 byte size.\n",
    "\n",
    "# Return the size of the struct (and hence of the string) corresponding to the given format. \n",
    "# calcsize() is important function, and is required for function such as struct.pack_into() and \n",
    "# struct.unpack_from(), which require offset value and buffer as well.\n",
    "payload_size = struct.calcsize(\"Q\")\n",
    "print(payload_size)\n",
    "print(\"Socket Accepted\")\n",
    "\n",
    "while True:\n",
    "    while len(data) < payload_size: # 1 byte < 8 bytes\n",
    "        packet = client_s.recv(2160)\n",
    "        if not packet: break\n",
    "        data+=packet # Appending serialized data coming from server (stored in loc var message on in Server.ipynb)\n",
    "    dynamicSerializedMsg = data[:payload_size] # Data of first 8 bytes.\n",
    "    data = data[payload_size:] # \n",
    "\n",
    "    # Unpacks (string to int (of size 8 bytes)) only 8 bytes of data dynamically stored in packed message.\n",
    "    # [0] refers to element at first index\n",
    "    msg_size = struct.unpack(\"Q\",dynamicSerializedMsg)[0] \n",
    "    \n",
    "    # len(data) - (One of them: 2152 (max); Defined by strlen passed as an arguement in .recv function)\n",
    "    # msg_size (One of them:  9044780001777646981; Type - int)\n",
    "    while len(data) < msg_size:\n",
    "        data += client_s.recv(2160)\n",
    "    frame_data = data[:msg_size]\n",
    "    data  = data[msg_size:]\n",
    "    frame = pickle.loads(frame_data) # Object Deserialization\n",
    "    cv2.imshow(\"Client\",frame)\n",
    "    key = cv2.waitKey(1) & 0xFF\n",
    "\n",
    "    # In Python, the ord () function accepts a string of unit length as an argument and returns the Unicode equivalence of the passed argument.\n",
    "    if key  == ord('q'): # 113\n",
    "        break\n",
    "client_s.close()"
   ]
  }
 ]
}