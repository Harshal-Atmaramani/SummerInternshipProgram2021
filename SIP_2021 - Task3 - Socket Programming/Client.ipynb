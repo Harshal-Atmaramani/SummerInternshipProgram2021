{
 "metadata": {
  "language_info": {
   "codemirror_mode": {
    "name": "ipython",
    "version": 3
   },
   "file_extension": ".py",
   "mimetype": "text/x-python",
   "name": "python",
   "nbconvert_exporter": "python",
   "pygments_lexer": "ipython3",
   "version": 3
  },
  "orig_nbformat": 2
 },
 "nbformat": 4,
 "nbformat_minor": 2,
 "cells": [
  {
   "cell_type": "code",
   "execution_count": null,
   "metadata": {},
   "outputs": [],
   "source": [
    "import socket as s\r\n",
    "import cv2\r\n",
    "import pickle\r\n",
    "import struct\r\n",
    "\r\n",
    "client_s = s.socket(s.AF_INET,s.SOCK_STREAM)\r\n",
    "host_ip = '192.168.128.1'\r\n",
    "port = 1234\r\n",
    "print(\"Socket Created Successfully\")\r\n",
    "\r\n",
    "# Connecting to the server\r\n",
    "# The client socket can use the connect() method, after the socket creation is complete to contact the server socket.\r\n",
    "client_s.connect((host_ip,port))\r\n",
    "data = b\"\" # Empty string of defined 1 byte size.\r\n",
    "\r\n",
    "# Return the size of the struct (and hence of the string) corresponding to the given format. \r\n",
    "# calcsize() is important function, and is required for function such as struct.pack_into() and \r\n",
    "# struct.unpack_from(), which require offset value and buffer as well.\r\n",
    "payload_size = struct.calcsize(\"Q\")\r\n",
    "print(payload_size)\r\n",
    "print(\"Socket Accepted\")\r\n",
    "\r\n",
    "while True:\r\n",
    "    while len(data) < payload_size: # 1 byte < 8 bytes\r\n",
    "        packet = client_s.recv(2160)\r\n",
    "        if not packet: break\r\n",
    "        data+=packet # Appending serialized data coming from server (stored in loc var message on in Server.ipynb)\r\n",
    "    dynamicSerializedMsg = data[:payload_size] # Data of first 8 bytes.\r\n",
    "    data = data[payload_size:] # \r\n",
    "\r\n",
    "    # Unpacks (string to int (of size 8 bytes)) only 8 bytes of data dynamically stored in packed message.\r\n",
    "    # [0] refers to element at first index\r\n",
    "    msg_size = struct.unpack(\"Q\",dynamicSerializedMsg)[0] \r\n",
    "    \r\n",
    "    # len(data) - (One of them: 2152 (max); Defined by strlen passed as an arguement in .recv function)\r\n",
    "    # msg_size (One of them:  9044780001777646981; Type - int)\r\n",
    "    while len(data) < msg_size:\r\n",
    "        data += client_s.recv(2160)\r\n",
    "    frame_data = data[:msg_size]\r\n",
    "    data  = data[msg_size:]\r\n",
    "    frame = pickle.loads(frame_data) # Object Deserialization\r\n",
    "    cv2.imshow(\"Client\",frame)\r\n",
    "    key = cv2.waitKey(1) & 0xFF\r\n",
    "\r\n",
    "    # In Python, the ord () function accepts a string of unit length as an argument and returns the Unicode equivalence of the passed argument.\r\n",
    "    if key  == ord('q'): # 113\r\n",
    "        break\r\n",
    "client_s.close()"
   ]
  }
 ]
}