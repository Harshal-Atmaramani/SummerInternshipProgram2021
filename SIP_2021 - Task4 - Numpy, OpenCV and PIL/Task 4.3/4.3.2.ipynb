{
 "metadata": {
  "language_info": {
   "codemirror_mode": {
    "name": "ipython",
    "version": 3
   },
   "file_extension": ".py",
   "mimetype": "text/x-python",
   "name": "python",
   "nbconvert_exporter": "python",
   "pygments_lexer": "ipython3",
   "version": 3
  },
  "orig_nbformat": 2
 },
 "nbformat": 4,
 "nbformat_minor": 2,
 "cells": [
  {
   "cell_type": "code",
   "execution_count": null,
   "metadata": {},
   "outputs": [],
   "source": [
    "# Joining the created images\n",
    "\n",
    "#Reference: https://www.includehelp.com/python/create-a-collage-of-images-with-the-help-of-numpy-and-python-opencv-cv2.aspx\n",
    "import cv2\n",
    "import numpy as np\n",
    "img1=cv2.imread('/content/1.png')\n",
    "img2=cv2.imread('/content/2.png')\n",
    "img3=cv2.imread('/content/3.png')\n",
    "img4=cv2.imread('/content/4.png')\n",
    "\n",
    "Horizontal1=np.hstack([img1,img2])\n",
    "Horizontal2=np.hstack([img3,img4])\n",
    "Vertical_attachment=np.vstack([Horizontal1,Horizontal2])\n",
    "\n",
    "from google.colab.patches import cv2_imshow\n",
    "cv2_imshow(Vertical_attachment)"
   ]
  }
 ]
}