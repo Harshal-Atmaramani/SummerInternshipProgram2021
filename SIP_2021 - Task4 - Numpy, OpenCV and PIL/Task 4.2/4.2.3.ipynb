{
 "metadata": {
  "language_info": {
   "codemirror_mode": {
    "name": "ipython",
    "version": 3
   },
   "file_extension": ".py",
   "mimetype": "text/x-python",
   "name": "python",
   "nbconvert_exporter": "python",
   "pygments_lexer": "ipython3",
   "version": 3
  },
  "orig_nbformat": 2
 },
 "nbformat": 4,
 "nbformat_minor": 2,
 "cells": [
  {
   "cell_type": "code",
   "execution_count": null,
   "metadata": {},
   "outputs": [],
   "source": [
    "# Swapping the images\n",
    "\n",
    "import cv2\n",
    "import numpy as np\n",
    "SquareDesign=cv2.imread('/content/SquareDesign.png')\n",
    "lwlogo=cv2.imread('/content/lwlogo.png')\n",
    "SquareDesign[96:160,64:192] = lwlogo\n",
    "cv2_imshow(SquareDesign)"
   ]
  }
 ]
}