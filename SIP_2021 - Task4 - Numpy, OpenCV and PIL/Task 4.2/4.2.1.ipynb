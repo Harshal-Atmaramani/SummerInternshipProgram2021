{
 "metadata": {
  "language_info": {
   "codemirror_mode": {
    "name": "ipython",
    "version": 3
   },
   "file_extension": ".py",
   "mimetype": "text/x-python",
   "name": "python",
   "nbconvert_exporter": "python",
   "pygments_lexer": "ipython3",
   "version": 3
  },
  "orig_nbformat": 2
 },
 "nbformat": 4,
 "nbformat_minor": 2,
 "cells": [
  {
   "cell_type": "code",
   "execution_count": null,
   "metadata": {},
   "outputs": [],
   "source": [
    "# Cropping a specific portion from the LW Icon.jpeg image to swap it with a portion in another image\n",
    "from google.colab.patches import cv2_imshow\n",
    "from PIL import Image\n",
    "import cv2\n",
    "photo = cv2.imread('/content/drive/MyDrive/Colab Notebooks/SIP_2021/SIP - Day 8 - Hands-on Learning - 1st June, 2021/LW Icon.jpeg')\n",
    "# cv2_imshow(photo)\n",
    "\n",
    "lwlogo = photo[225:575,90:710]\n",
    "# lwlogo.shape\n",
    "lwlogo=cv2.resize(lwlogo,(128,64))\n",
    "\n",
    "# If we use the below method to save the image, then the part of the logo where the color is red changes to blue. Why so? We need to find it.\n",
    "\n",
    "# Solution\n",
    "# OpenCV is BGR and Pillow is RGB.\n",
    "# When we passed the arr to fromarray function it changed the decimal pattern from BGR to RGB.\n",
    "# Reference 1: https://note.nkmk.me/en/python-opencv-bgr-rgb-cvtcolor/\n",
    "# Reference 2: https://www.codegrepper.com/code-examples/python/python+image+from+array\n",
    "\n",
    "img = cv2.cvtColor(lwlogo, cv2.COLOR_BGR2RGB)\n",
    "img=Image.fromarray(img)\n",
    "img.save('lwlogo.png')\n",
    "\n",
    "#This method doesn't change the array and directly converts the exact array to an image and so we see red color.\n",
    "# cv2.imwrite('lwlogo.png', lwlogo)\n",
    "lwlogo=cv2.imread('/content/lwlogo.png')\n",
    "cv2_imshow(lwlogo)"
   ]
  }
 ]
}