{
 "metadata": {
  "language_info": {
   "codemirror_mode": {
    "name": "ipython",
    "version": 3
   },
   "file_extension": ".py",
   "mimetype": "text/x-python",
   "name": "python",
   "nbconvert_exporter": "python",
   "pygments_lexer": "ipython3",
   "version": 3
  },
  "orig_nbformat": 2
 },
 "nbformat": 4,
 "nbformat_minor": 2,
 "cells": [
  {
   "cell_type": "code",
   "execution_count": null,
   "metadata": {},
   "outputs": [],
   "source": [
    "# Creating an image of square with 4 divisions using 3D arrays and two for loops\n",
    "\n",
    "import numpy as np\n",
    "from PIL import Image as im\n",
    "from google.colab.patches import cv2_imshow\n",
    "import cv2\n",
    "\n",
    "arr = np.zeros([256,256,3], dtype=np.uint8)\n",
    "\n",
    "for i in range(255,128,-1): #255\n",
    "  for j in range(255,128,-1): #255 > 254\n",
    "    for k in range(128,-1,-1): #255 > 128\n",
    "    # y1:y2, x1:x2\n",
    "    # arr[r,c] = [B,G,R]\n",
    "      # arr[k,k] = [k,j,i]\n",
    "      arr[k,i] = [i,j,k]\n",
    "      arr[i,k] = [k,i,j]\n",
    "      arr[j,i] = [j,k,i]\n",
    "\n",
    "for i in range(128,-1,-1):\n",
    "  for j in range(128,-1,-1):\n",
    "    for k in range(255,-1,-1):\n",
    "      arr[i,j] = [k,j,i]\n",
    "\n",
    "img = im.fromarray(arr)\n",
    "img.save('SquareDesign.png')\n",
    "\n",
    "# Trying to see the same image in Colab\n",
    "image = cv2.imread('SquareDesign.png')\n",
    "cv2_imshow(image)"
   ]
  }
 ]
}